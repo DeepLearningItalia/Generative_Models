{
 "cells": [
  {
   "cell_type": "markdown",
   "metadata": {
    "id": "0boQM3_kKpRO"
   },
   "source": [
    "# FINAL EXAM"
   ]
  },
  {
   "cell_type": "markdown",
   "metadata": {
    "id": "VhNLvzmbKxTl"
   },
   "source": [
    "Hello student!!!\n",
    "Congratulations for completeing the e-learning course dedicated to Deep Generative models with Pytorch.\n",
    "\n",
    "Before you leave, we have one last exercise for you :)\n",
    "\n",
    "For the final exam, you will be asked to implement and train a DCGAN architecture.\n",
    "Specifically, your goals are:\n",
    "\n",
    "\n",
    "1.   Implement DCGAN architecture\n",
    "2.   Train the models on the CIFAR-10 dataset with the best hyperparameteres you have found so far\n",
    "3.   Plot training statistics such as the models' loss and the Discriminator scores for different type of images (real or generated)\n",
    "4.   Use the Generator to generate new samples after training\n",
    "5.   Use the Discriminator to extract features to classify images from the CIFAR-10 dataset   \n",
    "\n",
    "I suggest you to read the following article before to start to implement and train the DCGAN\n",
    "\n",
    "https://arxiv.org/pdf/1511.06434.pdf\n",
    "\n",
    "\n",
    "Have fun and good luck!!!"
   ]
  },
  {
   "cell_type": "code",
   "execution_count": null,
   "metadata": {
    "id": "fTUbixf0KpnA"
   },
   "outputs": [],
   "source": []
  },
  {
   "cell_type": "code",
   "execution_count": null,
   "metadata": {
    "id": "knlLkB5mx-UC"
   },
   "outputs": [],
   "source": [
    "######################################\n",
    "########## IMPORT LIBRARIES ##########\n",
    "######################################\n"
   ]
  },
  {
   "cell_type": "code",
   "execution_count": null,
   "metadata": {
    "id": "WAcTaofPyDNQ"
   },
   "outputs": [],
   "source": []
  },
  {
   "cell_type": "code",
   "execution_count": null,
   "metadata": {
    "id": "1km9j5UXHotT"
   },
   "outputs": [],
   "source": [
    "class DCGenerator(nn.Module):\n",
    "    def __init__(self, ...):\n",
    "        \"\"\"The Generator model. \n",
    "\n",
    "        Parameters\n",
    "        ----------\n",
    "\n",
    "        \"\"\"\n",
    "        super(DCGenerator, self).__init__()\n",
    "        #########################################\n",
    "        ########## YOUR CODE GOES HERE ##########\n",
    "        #########################################\n",
    "\n",
    "    def forward(self, x):\n",
    "        #########################################\n",
    "        ########## YOUR CODE GOES HERE ##########\n",
    "        #########################################\n",
    "        return ...\n",
    "\n",
    "\n",
    "class DCDiscriminator(nn.Module):\n",
    "    def __init__(self, ...):\n",
    "        \"\"\"The Discriminator model. \n",
    "\n",
    "        Parameters\n",
    "        ----------\n",
    "\n",
    "\n",
    "        \"\"\"\n",
    "        super(DCDiscriminator, self).__init__()\n",
    "        #########################################\n",
    "        ########## YOUR CODE GOES HERE ##########\n",
    "        #########################################\n",
    "\n",
    "    def forward(self, x):\n",
    "        #########################################\n",
    "        ########## YOUR CODE GOES HERE ##########\n",
    "        #########################################\n",
    "        return ..."
   ]
  },
  {
   "cell_type": "code",
   "execution_count": null,
   "metadata": {
    "id": "-3R4QJ2JHovw"
   },
   "outputs": [],
   "source": []
  },
  {
   "cell_type": "code",
   "execution_count": null,
   "metadata": {
    "id": "F5QSf7fZHox-"
   },
   "outputs": [],
   "source": [
    "#########################################\n",
    "############ INIT THE MODELS ############\n",
    "#########################################\n",
    " \n",
    "generator = \n",
    "discriminator = "
   ]
  },
  {
   "cell_type": "code",
   "execution_count": null,
   "metadata": {
    "id": "q2SlF6fGJf5V"
   },
   "outputs": [],
   "source": []
  },
  {
   "cell_type": "code",
   "execution_count": null,
   "metadata": {
    "id": "PKc5SxY2Jf7_"
   },
   "outputs": [],
   "source": [
    "#########################################\n",
    "####### INIT THE CIFAR10 Dataset ########\n",
    "#########################################\n"
   ]
  },
  {
   "cell_type": "code",
   "execution_count": null,
   "metadata": {
    "id": "vl8FuzsUJZgI"
   },
   "outputs": [],
   "source": []
  },
  {
   "cell_type": "code",
   "execution_count": null,
   "metadata": {
    "id": "PUHGnzdNHo0O"
   },
   "outputs": [],
   "source": [
    "#########################################\n",
    "########## INIT THE OPTIMIZERS ##########\n",
    "#########################################\n",
    "\n",
    "generator_optim = \n",
    "discriminator_optim = "
   ]
  },
  {
   "cell_type": "code",
   "execution_count": null,
   "metadata": {
    "id": "gcyUQlpcJaQs"
   },
   "outputs": [],
   "source": []
  },
  {
   "cell_type": "code",
   "execution_count": null,
   "metadata": {
    "id": "8PdmVHuSHo2Y"
   },
   "outputs": [],
   "source": [
    "#########################################\n",
    "########### SET THE CRITERION ###########\n",
    "#########################################\n",
    "\n",
    "criterion = "
   ]
  },
  {
   "cell_type": "code",
   "execution_count": null,
   "metadata": {
    "id": "JFWtSe8vJaxA"
   },
   "outputs": [],
   "source": []
  },
  {
   "cell_type": "code",
   "execution_count": null,
   "metadata": {
    "id": "pvRgSEMpHo4T"
   },
   "outputs": [],
   "source": [
    "########################################\n",
    "########### TRAIN THE MODELS ###########\n",
    "# For this task you'll need to train the\n",
    "# models. \n",
    "# Try different hyperparameters\n",
    "# combinations so that to train better\n",
    "# models.\n",
    "# While training, keep under control \n",
    "# the training statistics such as the\n",
    "# loss of the models and the scores of \n",
    "# the discriminator for different types \n",
    "# of images\n",
    "# Make plots to show the actual \n",
    "# convergence of the GAN\n",
    "########################################\n",
    "\n"
   ]
  },
  {
   "cell_type": "code",
   "execution_count": null,
   "metadata": {
    "id": "MsgNq4I8Ho6U"
   },
   "outputs": [],
   "source": []
  },
  {
   "cell_type": "code",
   "execution_count": null,
   "metadata": {
    "id": "0kz_2ItHHo9C"
   },
   "outputs": [],
   "source": [
    "########################################\n",
    "########### IMAGE GENERATION ###########\n",
    "# Show the power of your Generator\n",
    "# by generating some images\n",
    "########################################\n",
    "\n"
   ]
  },
  {
   "cell_type": "code",
   "execution_count": null,
   "metadata": {
    "id": "Top_bw8BKPX3"
   },
   "outputs": [],
   "source": []
  },
  {
   "cell_type": "code",
   "execution_count": null,
   "metadata": {
    "id": "FCliEKNYKPaN"
   },
   "outputs": [],
   "source": [
    "#########################################\n",
    "######### IMAGE CLASSIFICATION ##########\n",
    "# Use the features produced by the \n",
    "# Discriminator to classify iages.\n",
    "# Report the classification accuracy\n",
    "# of the discriminator\n",
    "#########################################\n",
    "\n"
   ]
  },
  {
   "cell_type": "code",
   "execution_count": null,
   "metadata": {
    "id": "bjAGWB92KPco"
   },
   "outputs": [],
   "source": []
  },
  {
   "cell_type": "code",
   "execution_count": null,
   "metadata": {
    "id": "DIOMIcBFKPe6"
   },
   "outputs": [],
   "source": []
  },
  {
   "cell_type": "code",
   "execution_count": null,
   "metadata": {
    "id": "LKPZgkGFKPhO"
   },
   "outputs": [],
   "source": []
  },
  {
   "cell_type": "code",
   "execution_count": null,
   "metadata": {
    "id": "AG7WSjp9KPj8"
   },
   "outputs": [],
   "source": []
  }
 ],
 "metadata": {
  "colab": {
   "collapsed_sections": [],
   "name": "dli_final_exam.ipynb",
   "provenance": []
  },
  "kernelspec": {
   "display_name": "Python 3",
   "language": "python",
   "name": "python3"
  },
  "language_info": {
   "codemirror_mode": {
    "name": "ipython",
    "version": 3
   },
   "file_extension": ".py",
   "mimetype": "text/x-python",
   "name": "python",
   "nbconvert_exporter": "python",
   "pygments_lexer": "ipython3",
   "version": "3.8.5"
  }
 },
 "nbformat": 4,
 "nbformat_minor": 1
}
