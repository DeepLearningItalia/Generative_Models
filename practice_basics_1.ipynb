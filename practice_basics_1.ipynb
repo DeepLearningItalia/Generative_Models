{
 "cells": [
  {
   "cell_type": "code",
   "execution_count": 1,
   "metadata": {
    "id": "NThfNXbwfxb4"
   },
   "outputs": [],
   "source": [
    "import numpy as np\n",
    "import matplotlib.pyplot as plt\n",
    "from collections import OrderedDict\n",
    "\n",
    "%matplotlib inline"
   ]
  },
  {
   "cell_type": "code",
   "execution_count": 2,
   "metadata": {
    "id": "x87UWhzOf5Bu"
   },
   "outputs": [],
   "source": [
    "import torch\n",
    "import torch.nn as nn\n",
    "import torch.nn.functional as F\n",
    "from torch.optim import SGD, Adam"
   ]
  },
  {
   "cell_type": "code",
   "execution_count": 3,
   "metadata": {
    "colab": {
     "base_uri": "https://localhost:8080/"
    },
    "id": "qPuLbpnFf6dD",
    "outputId": "991a7854-d4c7-4eae-afa9-663876fcd768"
   },
   "outputs": [
    {
     "name": "stdout",
     "output_type": "stream",
     "text": [
      "cuda\n"
     ]
    }
   ],
   "source": [
    "# Select the device to run on\n",
    "device = 'cuda' if torch.cuda.is_available() else 'cpu'\n",
    "\n",
    "print(device)"
   ]
  },
  {
   "cell_type": "code",
   "execution_count": 4,
   "metadata": {
    "colab": {
     "base_uri": "https://localhost:8080/"
    },
    "id": "_96ayXjRf6eS",
    "outputId": "ec9d9314-8ba7-44ec-92ec-b504da38a28d"
   },
   "outputs": [
    {
     "name": "stdout",
     "output_type": "stream",
     "text": [
      "torch.Size([128, 1, 28, 28])\n"
     ]
    }
   ],
   "source": [
    "# Randomly init a tensor\n",
    "a = torch.randn(size=(128, 1, 28, 28), dtype=torch.float32, device=device, requires_grad=False)\n",
    "\n",
    "print(a.shape)"
   ]
  },
  {
   "cell_type": "code",
   "execution_count": 5,
   "metadata": {
    "colab": {
     "base_uri": "https://localhost:8080/",
     "height": 265
    },
    "id": "CU3kPzMqf6hg",
    "outputId": "971937e4-c0d6-407d-dafb-ff89ad1a93fc"
   },
   "outputs": [
    {
     "data": {
      "image/png": "[encoded data removed]",
      "text/plain": [
       "<Figure size 432x288 with 1 Axes>"
      ]
     },
     "metadata": {
      "needs_background": "light"
     },
     "output_type": "display_data"
    }
   ],
   "source": [
    "plt.hist(a.cpu().numpy().ravel(), bins=100);"
   ]
  },
  {
   "cell_type": "code",
   "execution_count": null,
   "metadata": {
    "id": "FZ-wfS_Af6i7"
   },
   "outputs": [],
   "source": []
  },
  {
   "cell_type": "code",
   "execution_count": null,
   "metadata": {
    "id": "IYdTpw-Jf6mp"
   },
   "outputs": [],
   "source": []
  },
  {
   "cell_type": "markdown",
   "metadata": {
    "id": "G4bBTIYlihVV"
   },
   "source": [
    "\n",
    "\n",
    "\n",
    "# Linear Layer\n",
    "\n",
    "\n"
   ]
  },
  {
   "cell_type": "code",
   "execution_count": 6,
   "metadata": {
    "colab": {
     "base_uri": "https://localhost:8080/"
    },
    "id": "NU3DJofRiZJv",
    "outputId": "4223b986-e426-4af3-bdf5-2b3257f34b89"
   },
   "outputs": [
    {
     "name": "stdout",
     "output_type": "stream",
     "text": [
      "Linear(in_features=784, out_features=12, bias=True)\n",
      "<class 'torch.nn.modules.linear.Linear'>\n",
      "torch.Size([12, 784]) torch.Size([12])\n"
     ]
    }
   ],
   "source": [
    "# Create a linear layer \n",
    "neuron = nn.Linear(in_features=28*28, out_features=12, bias=True)\n",
    "\n",
    "# Move the layer onto the GPU\n",
    "neuron.to(device)\n",
    "\n",
    "# Print some stuff\n",
    "print(neuron)\n",
    "print(type(neuron))\n",
    "print(neuron.weight.shape, neuron.bias.shape)"
   ]
  },
  {
   "cell_type": "code",
   "execution_count": 7,
   "metadata": {
    "colab": {
     "base_uri": "https://localhost:8080/",
     "height": 265
    },
    "id": "iLGAaNCSiZLd",
    "outputId": "6eb9fd92-72ca-4dcd-8d2d-15345ac495a9"
   },
   "outputs": [
    {
     "data": {
      "image/png": "[encoded data removed]",
      "text/plain": [
       "<Figure size 432x288 with 2 Axes>"
      ]
     },
     "metadata": {
      "needs_background": "light"
     },
     "output_type": "display_data"
    }
   ],
   "source": [
    "plt.subplot(1, 2, 1)\n",
    "plt.hist(neuron.weight.detach().cpu().numpy().ravel(), bins=100);\n",
    "plt.subplot(1, 2, 2)\n",
    "plt.hist(neuron.bias.detach().cpu().numpy().ravel());\n",
    "plt.show()"
   ]
  },
  {
   "cell_type": "code",
   "execution_count": 8,
   "metadata": {
    "colab": {
     "base_uri": "https://localhost:8080/",
     "height": 330
    },
    "id": "XBIwDJHEiZO0",
    "outputId": "4e587091-3479-4190-bfcd-1673a97d3d04"
   },
   "outputs": [
    {
     "ename": "RuntimeError",
     "evalue": "mat1 dim 1 must match mat2 dim 0",
     "output_type": "error",
     "traceback": [
      "\u001b[0;31m---------------------------------------------------------------------------\u001b[0m",
      "\u001b[0;31mRuntimeError\u001b[0m                              Traceback (most recent call last)",
      "\u001b[0;32m<ipython-input-8-01d30337709d>\u001b[0m in \u001b[0;36m<module>\u001b[0;34m\u001b[0m\n\u001b[1;32m      1\u001b[0m \u001b[0;31m# Run the layer over the input tensor 'a'\u001b[0m\u001b[0;34m\u001b[0m\u001b[0;34m\u001b[0m\u001b[0;34m\u001b[0m\u001b[0m\n\u001b[0;32m----> 2\u001b[0;31m \u001b[0moutput\u001b[0m \u001b[0;34m=\u001b[0m \u001b[0mneuron\u001b[0m\u001b[0;34m(\u001b[0m\u001b[0ma\u001b[0m\u001b[0;34m)\u001b[0m\u001b[0;34m\u001b[0m\u001b[0;34m\u001b[0m\u001b[0m\n\u001b[0m",
      "\u001b[0;32m~/.local/lib/python3.8/site-packages/torch/nn/modules/module.py\u001b[0m in \u001b[0;36m_call_impl\u001b[0;34m(self, *input, **kwargs)\u001b[0m\n\u001b[1;32m    725\u001b[0m             \u001b[0mresult\u001b[0m \u001b[0;34m=\u001b[0m \u001b[0mself\u001b[0m\u001b[0;34m.\u001b[0m\u001b[0m_slow_forward\u001b[0m\u001b[0;34m(\u001b[0m\u001b[0;34m*\u001b[0m\u001b[0minput\u001b[0m\u001b[0;34m,\u001b[0m \u001b[0;34m**\u001b[0m\u001b[0mkwargs\u001b[0m\u001b[0;34m)\u001b[0m\u001b[0;34m\u001b[0m\u001b[0;34m\u001b[0m\u001b[0m\n\u001b[1;32m    726\u001b[0m         \u001b[0;32melse\u001b[0m\u001b[0;34m:\u001b[0m\u001b[0;34m\u001b[0m\u001b[0;34m\u001b[0m\u001b[0m\n\u001b[0;32m--> 727\u001b[0;31m             \u001b[0mresult\u001b[0m \u001b[0;34m=\u001b[0m \u001b[0mself\u001b[0m\u001b[0;34m.\u001b[0m\u001b[0mforward\u001b[0m\u001b[0;34m(\u001b[0m\u001b[0;34m*\u001b[0m\u001b[0minput\u001b[0m\u001b[0;34m,\u001b[0m \u001b[0;34m**\u001b[0m\u001b[0mkwargs\u001b[0m\u001b[0;34m)\u001b[0m\u001b[0;34m\u001b[0m\u001b[0;34m\u001b[0m\u001b[0m\n\u001b[0m\u001b[1;32m    728\u001b[0m         for hook in itertools.chain(\n\u001b[1;32m    729\u001b[0m                 \u001b[0m_global_forward_hooks\u001b[0m\u001b[0;34m.\u001b[0m\u001b[0mvalues\u001b[0m\u001b[0;34m(\u001b[0m\u001b[0;34m)\u001b[0m\u001b[0;34m,\u001b[0m\u001b[0;34m\u001b[0m\u001b[0;34m\u001b[0m\u001b[0m\n",
      "\u001b[0;32m~/.local/lib/python3.8/site-packages/torch/nn/modules/linear.py\u001b[0m in \u001b[0;36mforward\u001b[0;34m(self, input)\u001b[0m\n\u001b[1;32m     91\u001b[0m \u001b[0;34m\u001b[0m\u001b[0m\n\u001b[1;32m     92\u001b[0m     \u001b[0;32mdef\u001b[0m \u001b[0mforward\u001b[0m\u001b[0;34m(\u001b[0m\u001b[0mself\u001b[0m\u001b[0;34m,\u001b[0m \u001b[0minput\u001b[0m\u001b[0;34m:\u001b[0m \u001b[0mTensor\u001b[0m\u001b[0;34m)\u001b[0m \u001b[0;34m->\u001b[0m \u001b[0mTensor\u001b[0m\u001b[0;34m:\u001b[0m\u001b[0;34m\u001b[0m\u001b[0;34m\u001b[0m\u001b[0m\n\u001b[0;32m---> 93\u001b[0;31m         \u001b[0;32mreturn\u001b[0m \u001b[0mF\u001b[0m\u001b[0;34m.\u001b[0m\u001b[0mlinear\u001b[0m\u001b[0;34m(\u001b[0m\u001b[0minput\u001b[0m\u001b[0;34m,\u001b[0m \u001b[0mself\u001b[0m\u001b[0;34m.\u001b[0m\u001b[0mweight\u001b[0m\u001b[0;34m,\u001b[0m \u001b[0mself\u001b[0m\u001b[0;34m.\u001b[0m\u001b[0mbias\u001b[0m\u001b[0;34m)\u001b[0m\u001b[0;34m\u001b[0m\u001b[0;34m\u001b[0m\u001b[0m\n\u001b[0m\u001b[1;32m     94\u001b[0m \u001b[0;34m\u001b[0m\u001b[0m\n\u001b[1;32m     95\u001b[0m     \u001b[0;32mdef\u001b[0m \u001b[0mextra_repr\u001b[0m\u001b[0;34m(\u001b[0m\u001b[0mself\u001b[0m\u001b[0;34m)\u001b[0m \u001b[0;34m->\u001b[0m \u001b[0mstr\u001b[0m\u001b[0;34m:\u001b[0m\u001b[0;34m\u001b[0m\u001b[0;34m\u001b[0m\u001b[0m\n",
      "\u001b[0;32m~/.local/lib/python3.8/site-packages/torch/nn/functional.py\u001b[0m in \u001b[0;36mlinear\u001b[0;34m(input, weight, bias)\u001b[0m\n\u001b[1;32m   1690\u001b[0m         \u001b[0mret\u001b[0m \u001b[0;34m=\u001b[0m \u001b[0mtorch\u001b[0m\u001b[0;34m.\u001b[0m\u001b[0maddmm\u001b[0m\u001b[0;34m(\u001b[0m\u001b[0mbias\u001b[0m\u001b[0;34m,\u001b[0m \u001b[0minput\u001b[0m\u001b[0;34m,\u001b[0m \u001b[0mweight\u001b[0m\u001b[0;34m.\u001b[0m\u001b[0mt\u001b[0m\u001b[0;34m(\u001b[0m\u001b[0;34m)\u001b[0m\u001b[0;34m)\u001b[0m\u001b[0;34m\u001b[0m\u001b[0;34m\u001b[0m\u001b[0m\n\u001b[1;32m   1691\u001b[0m     \u001b[0;32melse\u001b[0m\u001b[0;34m:\u001b[0m\u001b[0;34m\u001b[0m\u001b[0;34m\u001b[0m\u001b[0m\n\u001b[0;32m-> 1692\u001b[0;31m         \u001b[0moutput\u001b[0m \u001b[0;34m=\u001b[0m \u001b[0minput\u001b[0m\u001b[0;34m.\u001b[0m\u001b[0mmatmul\u001b[0m\u001b[0;34m(\u001b[0m\u001b[0mweight\u001b[0m\u001b[0;34m.\u001b[0m\u001b[0mt\u001b[0m\u001b[0;34m(\u001b[0m\u001b[0;34m)\u001b[0m\u001b[0;34m)\u001b[0m\u001b[0;34m\u001b[0m\u001b[0;34m\u001b[0m\u001b[0m\n\u001b[0m\u001b[1;32m   1693\u001b[0m         \u001b[0;32mif\u001b[0m \u001b[0mbias\u001b[0m \u001b[0;32mis\u001b[0m \u001b[0;32mnot\u001b[0m \u001b[0;32mNone\u001b[0m\u001b[0;34m:\u001b[0m\u001b[0;34m\u001b[0m\u001b[0;34m\u001b[0m\u001b[0m\n\u001b[1;32m   1694\u001b[0m             \u001b[0moutput\u001b[0m \u001b[0;34m+=\u001b[0m \u001b[0mbias\u001b[0m\u001b[0;34m\u001b[0m\u001b[0;34m\u001b[0m\u001b[0m\n",
      "\u001b[0;31mRuntimeError\u001b[0m: mat1 dim 1 must match mat2 dim 0"
     ]
    }
   ],
   "source": [
    "# Run the layer over the input tensor 'a'\n",
    "output = neuron(a)"
   ]
  },
  {
   "cell_type": "code",
   "execution_count": 11,
   "metadata": {
    "id": "VdxKoMkLiZQq"
   },
   "outputs": [],
   "source": [
    "output = neuron(a.view(a.shape[0], -1))"
   ]
  },
  {
   "cell_type": "code",
   "execution_count": 12,
   "metadata": {
    "colab": {
     "base_uri": "https://localhost:8080/"
    },
    "id": "hZAeklJGiZTz",
    "outputId": "a891a80a-7e9f-4b97-ebff-363b6841b402"
   },
   "outputs": [
    {
     "name": "stdout",
     "output_type": "stream",
     "text": [
      "torch.Size([128, 12])\n"
     ]
    }
   ],
   "source": [
    "print(output.shape)"
   ]
  },
  {
   "cell_type": "code",
   "execution_count": 13,
   "metadata": {
    "colab": {
     "base_uri": "https://localhost:8080/"
    },
    "id": "_EhcimqWiZWI",
    "outputId": "40d2ee4e-d5bb-40ed-bf4c-1d98c6d4499b"
   },
   "outputs": [
    {
     "name": "stdout",
     "output_type": "stream",
     "text": [
      "[[-0.2454697   0.01491949  0.06926234]\n",
      " [ 0.5261362   0.76206005  0.3964377 ]\n",
      " [-0.21830006 -0.21805266  0.3938142 ]\n",
      " [-0.20999233 -0.10016773 -0.93600154]\n",
      " [ 1.3778194   0.30419672 -0.37339616]]\n"
     ]
    }
   ],
   "source": [
    "print(output[:5, :3].detach().cpu().numpy())"
   ]
  },
  {
   "cell_type": "code",
   "execution_count": null,
   "metadata": {
    "id": "yFpLEBKdlOEr"
   },
   "outputs": [],
   "source": []
  },
  {
   "cell_type": "code",
   "execution_count": 14,
   "metadata": {
    "colab": {
     "base_uri": "https://localhost:8080/"
    },
    "id": "pcgYZxpolOHL",
    "outputId": "9d4abb42-45d9-41f8-a9c1-a6a6ab9624dc"
   },
   "outputs": [
    {
     "name": "stdout",
     "output_type": "stream",
     "text": [
      "(12, 784) (12,)\n"
     ]
    }
   ],
   "source": [
    "# Don't believe... VERIFY!!!\n",
    "W = neuron.weight.data.clone().cpu().numpy()\n",
    "b = neuron.bias.data.clone().cpu().numpy()\n",
    "\n",
    "print(W.shape, b.shape)"
   ]
  },
  {
   "cell_type": "code",
   "execution_count": 15,
   "metadata": {
    "colab": {
     "base_uri": "https://localhost:8080/"
    },
    "id": "_LP0SuvZlOJm",
    "outputId": "769bd356-816b-45f4-d2bf-5a98e6430b37"
   },
   "outputs": [
    {
     "name": "stdout",
     "output_type": "stream",
     "text": [
      "(128, 1, 28, 28)\n"
     ]
    }
   ],
   "source": [
    "aa = a.cpu().numpy()\n",
    "print(aa.shape)"
   ]
  },
  {
   "cell_type": "code",
   "execution_count": 16,
   "metadata": {
    "colab": {
     "base_uri": "https://localhost:8080/"
    },
    "id": "Urw0C3--lOML",
    "outputId": "599c1a4d-a2d1-41f0-dc68-ce62f10191d8"
   },
   "outputs": [
    {
     "name": "stdout",
     "output_type": "stream",
     "text": [
      "(128, 12)\n",
      "[[-0.24546938  0.01491973  0.06926237]\n",
      " [ 0.5261361   0.76206017  0.39643788]\n",
      " [-0.21830009 -0.21805264  0.3938138 ]\n",
      " [-0.20999251 -0.1001681  -0.9360018 ]\n",
      " [ 1.3778201   0.3041967  -0.37339595]]\n"
     ]
    }
   ],
   "source": [
    "\n",
    "output2 = np.dot(aa.reshape(aa.shape[0], -1), W.T) + b\n",
    "\n",
    "print(output2.shape)\n",
    "print(output2[:5, :3])"
   ]
  },
  {
   "cell_type": "code",
   "execution_count": null,
   "metadata": {
    "id": "hxEfn-8SohZy"
   },
   "outputs": [],
   "source": []
  },
  {
   "cell_type": "code",
   "execution_count": null,
   "metadata": {
    "id": "V9sokeI6ohdS"
   },
   "outputs": [],
   "source": []
  },
  {
   "cell_type": "markdown",
   "metadata": {
    "id": "sopXoPpIqSyq"
   },
   "source": [
    "# Activation Function"
   ]
  },
  {
   "cell_type": "code",
   "execution_count": 17,
   "metadata": {
    "id": "JfRqZbV4ohgJ"
   },
   "outputs": [],
   "source": [
    "# Activation function from torch.nn.functional \n",
    "\n",
    "relu = F.relu\n",
    "tanh = torch.tanh\n",
    "sigm = torch.sigmoid"
   ]
  },
  {
   "cell_type": "code",
   "execution_count": 18,
   "metadata": {
    "id": "6ih8sFjCohjA"
   },
   "outputs": [],
   "source": [
    "data = torch.rand(size=(10000,))*10 - 5"
   ]
  },
  {
   "cell_type": "code",
   "execution_count": 19,
   "metadata": {
    "colab": {
     "base_uri": "https://localhost:8080/",
     "height": 336
    },
    "id": "DNVFvtzUohln",
    "outputId": "90637cac-c225-4b21-ad9c-2b5888290205"
   },
   "outputs": [
    {
     "data": {
      "image/png": "[encoded data removed]",
      "text/plain": [
       "<Figure size 1440x360 with 3 Axes>"
      ]
     },
     "metadata": {
      "needs_background": "light"
     },
     "output_type": "display_data"
    }
   ],
   "source": [
    "plt.figure(figsize=(20, 5))\n",
    "plt.subplot(1, 4, 1)\n",
    "plt.title('ReLU')\n",
    "plt.scatter(data, relu(data), marker='.')\n",
    "plt.subplot(1, 3, 2)\n",
    "plt.title('Tanh')\n",
    "plt.scatter(data, tanh(data), marker='.')\n",
    "plt.subplot(1, 3, 3)\n",
    "plt.title('Sigmoid')\n",
    "plt.scatter(data, sigm(data), marker='.')\n",
    "plt.show();"
   ]
  },
  {
   "cell_type": "code",
   "execution_count": null,
   "metadata": {
    "id": "MPbUkViDohoT"
   },
   "outputs": [],
   "source": []
  },
  {
   "cell_type": "code",
   "execution_count": null,
   "metadata": {
    "id": "kdNLFYtjiZZ0"
   },
   "outputs": [],
   "source": []
  },
  {
   "cell_type": "markdown",
   "metadata": {
    "id": "lUY2ZaFXr8TE"
   },
   "source": [
    "# Convolutional layer"
   ]
  },
  {
   "cell_type": "code",
   "execution_count": 20,
   "metadata": {
    "id": "eyiMIkDaiZb0"
   },
   "outputs": [],
   "source": [
    "data = torch.randn(size=(128, 1, 28, 28))"
   ]
  },
  {
   "cell_type": "code",
   "execution_count": 21,
   "metadata": {
    "colab": {
     "base_uri": "https://localhost:8080/"
    },
    "id": "WvDy8cc8r_Te",
    "outputId": "b6580bc7-7b0f-4d3d-bdde-55a4777f705f"
   },
   "outputs": [
    {
     "name": "stdout",
     "output_type": "stream",
     "text": [
      "Conv2d(1, 13, kernel_size=(3, 3), stride=(1, 1))\n"
     ]
    }
   ],
   "source": [
    "conv = nn.Conv2d(in_channels=1, out_channels=13, kernel_size=3, bias=True)\n",
    "print(conv)"
   ]
  },
  {
   "cell_type": "code",
   "execution_count": 22,
   "metadata": {
    "colab": {
     "base_uri": "https://localhost:8080/"
    },
    "id": "oYP-C8cJr_Wq",
    "outputId": "3fbae2c7-d6a7-48ca-99cd-743236ec4631"
   },
   "outputs": [
    {
     "name": "stdout",
     "output_type": "stream",
     "text": [
      "torch.Size([128, 13, 26, 26])\n"
     ]
    }
   ],
   "source": [
    "output = conv(data)\n",
    "print(output.shape)"
   ]
  },
  {
   "cell_type": "code",
   "execution_count": null,
   "metadata": {
    "id": "gLJVVbNKr_af"
   },
   "outputs": [],
   "source": []
  },
  {
   "cell_type": "markdown",
   "metadata": {
    "id": "nTsAZ7p-srpn"
   },
   "source": [
    "\n",
    "$H' = \\frac{H - K + 2\\cdot P}{S} + 1$\n",
    "\n",
    "$P=$ padding\n",
    "\n",
    "$S=$stride\n",
    "\n"
   ]
  },
  {
   "cell_type": "code",
   "execution_count": null,
   "metadata": {
    "id": "cez8RRVqr_eE"
   },
   "outputs": [],
   "source": []
  },
  {
   "cell_type": "code",
   "execution_count": null,
   "metadata": {
    "id": "b3T81lgIr_hc"
   },
   "outputs": [],
   "source": []
  },
  {
   "cell_type": "markdown",
   "metadata": {
    "id": "lVSOhZrvtzTH"
   },
   "source": [
    "# (almost) Deep Feed Forward Fully Connected Neural Network"
   ]
  },
  {
   "cell_type": "code",
   "execution_count": 23,
   "metadata": {
    "colab": {
     "base_uri": "https://localhost:8080/"
    },
    "id": "7abIaK8nr_kx",
    "outputId": "1bdd115d-1579-45d0-d61c-da0b4da327f6"
   },
   "outputs": [
    {
     "name": "stdout",
     "output_type": "stream",
     "text": [
      "Sequential(\n",
      "  (0): Linear(in_features=128, out_features=256, bias=True)\n",
      "  (1): ReLU()\n",
      "  (2): Linear(in_features=256, out_features=128, bias=True)\n",
      "  (3): ReLU()\n",
      "  (4): Linear(in_features=128, out_features=10, bias=True)\n",
      ")\n"
     ]
    }
   ],
   "source": [
    "model = nn.Sequential(\n",
    "                nn.Linear(in_features=128, out_features=256, bias=True),\n",
    "                nn.ReLU(),\n",
    "                nn.Linear(in_features=256, out_features=128, bias=True),\n",
    "                nn.ReLU(),\n",
    "                nn.Linear(in_features=128, out_features=10, bias=True)\n",
    "        )\n",
    "print(model)"
   ]
  },
  {
   "cell_type": "code",
   "execution_count": 24,
   "metadata": {
    "colab": {
     "base_uri": "https://localhost:8080/"
    },
    "id": "teSdmHB9u_tL",
    "outputId": "836949f8-caa0-4939-d868-01ee3caea691"
   },
   "outputs": [
    {
     "name": "stdout",
     "output_type": "stream",
     "text": [
      "Sequential(\n",
      "  (lin1): Linear(in_features=128, out_features=256, bias=True)\n",
      "  (relu1): ReLU()\n",
      "  (lin2): Linear(in_features=256, out_features=128, bias=True)\n",
      "  (relu2): ReLU()\n",
      "  (lin3): Linear(in_features=128, out_features=10, bias=True)\n",
      ")\n",
      "Linear(in_features=128, out_features=256, bias=True)\n"
     ]
    }
   ],
   "source": [
    "model2 = nn.Sequential(\n",
    "                  OrderedDict([\n",
    "                        ('lin1', nn.Linear(in_features=128, out_features=256, bias=True)),\n",
    "                        ('relu1', nn.ReLU()),\n",
    "                        ('lin2', nn.Linear(in_features=256, out_features=128, bias=True)),\n",
    "                        ('relu2', nn.ReLU()),\n",
    "                        ('lin3', nn.Linear(in_features=128, out_features=10, bias=True)),\n",
    "                  ])\n",
    "        )\n",
    "print(model2)\n",
    "print(model2.lin1)"
   ]
  },
  {
   "cell_type": "code",
   "execution_count": 25,
   "metadata": {
    "id": "bPLIRAlqz1sj"
   },
   "outputs": [],
   "source": [
    "layers = [\n",
    "        nn.Linear(in_features=128, out_features=256, bias=True),\n",
    "        nn.Linear(in_features=256, out_features=128, bias=True),\n",
    "        nn.Linear(in_features=128, out_features=10, bias=True)\n",
    "]"
   ]
  },
  {
   "cell_type": "code",
   "execution_count": 26,
   "metadata": {
    "id": "aSW-G3nnu_xX"
   },
   "outputs": [],
   "source": [
    "class MyModel(nn.Module):\n",
    "    def __init__(self, layers):\n",
    "        super(MyModel, self).__init__()\n",
    "        self.relu = nn.ReLU()\n",
    "        self.layers = layers\n",
    "\n",
    "    def forward(self, x):\n",
    "        print(\"Inside the forward step\")\n",
    "        if x.dim() > 2:\n",
    "            x = x.reshape(x.shape[0], -1)\n",
    "        o1 = self.layers[0](x)\n",
    "        print(f\"Shape after fist layer: {o1.shape}\")\n",
    "        o2 = self.relu(o1)\n",
    "        o3 = self.layers[1](o2)\n",
    "        print(f\"Shape after second layer: {o3.shape}\")\n",
    "        o4 = self.relu(o3)\n",
    "        o5 = self.layers[2](o4)\n",
    "        print(f\"Shape after last layer: {o5.shape}\")\n",
    "        return o5"
   ]
  },
  {
   "cell_type": "code",
   "execution_count": 27,
   "metadata": {
    "colab": {
     "base_uri": "https://localhost:8080/"
    },
    "id": "TE6Dy09ru_2F",
    "outputId": "d06de5ec-fd84-4721-f319-4809f2450472"
   },
   "outputs": [
    {
     "name": "stdout",
     "output_type": "stream",
     "text": [
      "MyModel(\n",
      "  (relu): ReLU()\n",
      ")\n"
     ]
    }
   ],
   "source": [
    "model3 = MyModel(layers)\n",
    "print(model3)"
   ]
  },
  {
   "cell_type": "code",
   "execution_count": 28,
   "metadata": {
    "id": "E9bPGjSCt80S"
   },
   "outputs": [],
   "source": [
    "class MyModel2(nn.Module):\n",
    "    def __init__(self, layers):\n",
    "        super(MyModel2, self).__init__()\n",
    "        self.seq = nn.Sequential(\n",
    "                            OrderedDict([\n",
    "                                  ('lin1', layers[0]),\n",
    "                                  ('relu1', nn.ReLU()),\n",
    "                                  ('lin2', layers[1]),\n",
    "                                  ('relu2', nn.ReLU()),\n",
    "                                  ('lin3', layers[2]),\n",
    "                            ])\n",
    "                  )\n",
    "\n",
    "    def forward(self, x):\n",
    "        if x.dim() > 2:\n",
    "            x = x.reshape(x.shape[0], -1)\n",
    "        return self.seq(x)"
   ]
  },
  {
   "cell_type": "code",
   "execution_count": 29,
   "metadata": {
    "colab": {
     "base_uri": "https://localhost:8080/"
    },
    "id": "OcCnggqkxqtQ",
    "outputId": "2a0eea3e-cb67-419a-94a6-fa5d2025e6a5"
   },
   "outputs": [
    {
     "name": "stdout",
     "output_type": "stream",
     "text": [
      "MyModel2(\n",
      "  (seq): Sequential(\n",
      "    (lin1): Linear(in_features=128, out_features=256, bias=True)\n",
      "    (relu1): ReLU()\n",
      "    (lin2): Linear(in_features=256, out_features=128, bias=True)\n",
      "    (relu2): ReLU()\n",
      "    (lin3): Linear(in_features=128, out_features=10, bias=True)\n",
      "  )\n",
      ")\n"
     ]
    }
   ],
   "source": [
    "model4 = MyModel2(layers)\n",
    "print(model4)"
   ]
  },
  {
   "cell_type": "code",
   "execution_count": 30,
   "metadata": {
    "id": "s5tWVDVpxqyG"
   },
   "outputs": [],
   "source": [
    "model3.to(device), model4.to(device);"
   ]
  },
  {
   "cell_type": "code",
   "execution_count": 31,
   "metadata": {
    "id": "FkNodlzfxq20"
   },
   "outputs": [],
   "source": [
    "input = torch.randn(size=(1, 128), device=device)"
   ]
  },
  {
   "cell_type": "code",
   "execution_count": 32,
   "metadata": {
    "colab": {
     "base_uri": "https://localhost:8080/"
    },
    "id": "_1zXp42pyFwk",
    "outputId": "b350c912-5d8b-4d18-9e06-4496fe57989d"
   },
   "outputs": [
    {
     "name": "stdout",
     "output_type": "stream",
     "text": [
      "Inside the forward step\n",
      "Shape after fist layer: torch.Size([1, 256])\n",
      "Shape after second layer: torch.Size([1, 128])\n",
      "Shape after last layer: torch.Size([1, 10])\n"
     ]
    },
    {
     "data": {
      "text/plain": [
       "tensor([[ 0.0640,  0.0892, -0.0056, -0.0984,  0.1058, -0.2744, -0.1040, -0.0592,\n",
       "          0.0372, -0.0610]], device='cuda:0', grad_fn=<AddmmBackward>)"
      ]
     },
     "execution_count": 32,
     "metadata": {},
     "output_type": "execute_result"
    }
   ],
   "source": [
    "model3(input)"
   ]
  },
  {
   "cell_type": "code",
   "execution_count": 33,
   "metadata": {
    "colab": {
     "base_uri": "https://localhost:8080/"
    },
    "id": "vyAKm0FjyF11",
    "outputId": "e06bb9dd-b92e-45f9-ca70-9e743f6d5ee6"
   },
   "outputs": [
    {
     "data": {
      "text/plain": [
       "tensor([[ 0.0640,  0.0892, -0.0056, -0.0984,  0.1058, -0.2744, -0.1040, -0.0592,\n",
       "          0.0372, -0.0610]], device='cuda:0', grad_fn=<AddmmBackward>)"
      ]
     },
     "execution_count": 33,
     "metadata": {},
     "output_type": "execute_result"
    }
   ],
   "source": [
    "model4(input)"
   ]
  },
  {
   "cell_type": "code",
   "execution_count": null,
   "metadata": {
    "id": "TbW0t4EkyF_8"
   },
   "outputs": [],
   "source": []
  },
  {
   "cell_type": "code",
   "execution_count": null,
   "metadata": {
    "id": "mNs_POGnyGF9"
   },
   "outputs": [],
   "source": []
  },
  {
   "cell_type": "markdown",
   "metadata": {
    "id": "vsK9pr6Dt9sn"
   },
   "source": [
    "# (almost) Deep Convolutional Neural Network"
   ]
  },
  {
   "cell_type": "code",
   "execution_count": 34,
   "metadata": {
    "id": "8Hfj6vYZt84R"
   },
   "outputs": [],
   "source": [
    "class MyModelConv(nn.Module):\n",
    "    def __init__(self):\n",
    "        super(MyModelConv, self).__init__()\n",
    "        self.relu = nn.ReLU()\n",
    "        self.avg_pool = nn.AdaptiveAvgPool2d(1)\n",
    "        self.conv1 = nn.Conv2d(in_channels=3, out_channels=32, kernel_size=3, bias=True)\n",
    "        self.conv2 = nn.Conv2d(in_channels=32, out_channels=64, kernel_size=5, bias=True)\n",
    "        self.conv3 = nn.Conv2d(in_channels=64, out_channels=128, kernel_size=3, bias=True)\n",
    "        self.linear1 = nn.Linear(in_features=128*576, out_features=128, bias=True)\n",
    "        self.linear2 = nn.Linear(in_features=128, out_features=10, bias=True)\n",
    "    \n",
    "\n",
    "    def forward(self, x, avg_pool=False):\n",
    "        o1 = self.relu(self.conv1(x))\n",
    "        o2 = self.relu(self.conv2(o1))\n",
    "        o3 = self.relu(self.conv3(o2))\n",
    "        o4 = self.relu(self.avg_pool(o3)) if avg_pool else self.relu(self.linear1(o3.view(o3.shape[0], -1)))\n",
    "        return self.linear2(o4.squeeze())"
   ]
  },
  {
   "cell_type": "code",
   "execution_count": 35,
   "metadata": {
    "colab": {
     "base_uri": "https://localhost:8080/"
    },
    "id": "F6sTtnp3t88X",
    "outputId": "634306a3-2698-41a8-f2c1-35d8955f81c5"
   },
   "outputs": [
    {
     "name": "stdout",
     "output_type": "stream",
     "text": [
      "MyModelConv(\n",
      "  (relu): ReLU()\n",
      "  (avg_pool): AdaptiveAvgPool2d(output_size=1)\n",
      "  (conv1): Conv2d(3, 32, kernel_size=(3, 3), stride=(1, 1))\n",
      "  (conv2): Conv2d(32, 64, kernel_size=(5, 5), stride=(1, 1))\n",
      "  (conv3): Conv2d(64, 128, kernel_size=(3, 3), stride=(1, 1))\n",
      "  (linear1): Linear(in_features=73728, out_features=128, bias=True)\n",
      "  (linear2): Linear(in_features=128, out_features=10, bias=True)\n",
      ")\n"
     ]
    }
   ],
   "source": [
    "model_conv = MyModelConv()\n",
    "model_conv.to(device)\n",
    "print(model_conv)"
   ]
  },
  {
   "cell_type": "code",
   "execution_count": 36,
   "metadata": {
    "colab": {
     "base_uri": "https://localhost:8080/"
    },
    "id": "_3PUdXdP3gwq",
    "outputId": "5bd90fdc-5dff-4473-958a-51c2bf3d7a28"
   },
   "outputs": [
    {
     "name": "stdout",
     "output_type": "stream",
     "text": [
      "torch.Size([12, 10])\n"
     ]
    }
   ],
   "source": [
    "output = model_conv(torch.randn((12, 3, 32, 32), device=device), True)\n",
    "print(output.shape)"
   ]
  },
  {
   "cell_type": "code",
   "execution_count": null,
   "metadata": {
    "id": "6b6MnBqU30Fy"
   },
   "outputs": [],
   "source": []
  },
  {
   "cell_type": "code",
   "execution_count": null,
   "metadata": {
    "id": "q1TR8-6k3g2R"
   },
   "outputs": [],
   "source": []
  },
  {
   "cell_type": "markdown",
   "metadata": {
    "id": "QCel6MJ5tcZX"
   },
   "source": [
    "# Optimizer"
   ]
  },
  {
   "cell_type": "code",
   "execution_count": 37,
   "metadata": {
    "id": "iZXMRI69r_n_"
   },
   "outputs": [],
   "source": [
    "sgd = SGD(params=model_conv.parameters(), lr=1.e-3, momentum=0.9, weight_decay=1.e-4, nesterov=True)\n",
    "adam = Adam(params=model_conv.parameters(), lr=1.e-3, weight_decay=1.e-4)"
   ]
  },
  {
   "cell_type": "code",
   "execution_count": null,
   "metadata": {
    "id": "p3bKJH1qr_rT"
   },
   "outputs": [],
   "source": []
  },
  {
   "cell_type": "markdown",
   "metadata": {
    "id": "_kXi-INj7mWt"
   },
   "source": [
    "# Loss Function"
   ]
  },
  {
   "cell_type": "code",
   "execution_count": 38,
   "metadata": {
    "id": "bVRAgQPK7jsq"
   },
   "outputs": [],
   "source": [
    "criterion = nn.CrossEntropyLoss()"
   ]
  },
  {
   "cell_type": "code",
   "execution_count": null,
   "metadata": {
    "id": "f1efis9p7ots"
   },
   "outputs": [],
   "source": []
  },
  {
   "cell_type": "code",
   "execution_count": 39,
   "metadata": {
    "id": "i3nuEI9T8bFJ"
   },
   "outputs": [],
   "source": [
    "data = torch.randn(size=(8, 3, 32, 32), device=device)\n",
    "labels = torch.tensor([0, 4, 2, 3, 1, 6, 3, 7], device=device)"
   ]
  },
  {
   "cell_type": "code",
   "execution_count": 40,
   "metadata": {
    "id": "A0NbmxwQ9UJi"
   },
   "outputs": [],
   "source": [
    "output = model_conv(data)\n",
    "loss = criterion(output, labels)"
   ]
  },
  {
   "cell_type": "code",
   "execution_count": 41,
   "metadata": {
    "colab": {
     "base_uri": "https://localhost:8080/"
    },
    "id": "iUYx9SNH7o1r",
    "outputId": "9316c180-08af-40b6-b06e-d2c46cfae591"
   },
   "outputs": [
    {
     "name": "stdout",
     "output_type": "stream",
     "text": [
      "torch.Size([8, 10])\n",
      "tensor([7, 9, 9, 6, 6, 6, 6, 6], device='cuda:0')\n",
      "tensor(2.3122, device='cuda:0', grad_fn=<NllLossBackward>)\n"
     ]
    }
   ],
   "source": [
    "print(output.shape)\n",
    "output_ = nn.Softmax(dim=1)(output)\n",
    "print(output_.argmax(-1))\n",
    "print(loss) "
   ]
  },
  {
   "cell_type": "code",
   "execution_count": 42,
   "metadata": {
    "id": "CHZtQ1XU7o_n"
   },
   "outputs": [],
   "source": [
    "loss.backward()\n",
    "sgd.step()"
   ]
  },
  {
   "cell_type": "code",
   "execution_count": null,
   "metadata": {
    "id": "u0GTq4ce7pfB"
   },
   "outputs": [],
   "source": []
  }
 ],
 "metadata": {
  "accelerator": "GPU",
  "colab": {
   "collapsed_sections": [],
   "name": "practice_basics_dli_1_2.ipynb",
   "provenance": []
  },
  "kernelspec": {
   "display_name": "Python 3",
   "language": "python",
   "name": "python3"
  },
  "language_info": {
   "codemirror_mode": {
    "name": "ipython",
    "version": 3
   },
   "file_extension": ".py",
   "mimetype": "text/x-python",
   "name": "python",
   "nbconvert_exporter": "python",
   "pygments_lexer": "ipython3",
   "version": "3.8.5"
  }
 },
 "nbformat": 4,
 "nbformat_minor": 1
}
